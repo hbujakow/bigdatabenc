{
 "cells": [
  {
   "cell_type": "code",
   "execution_count": 52,
   "id": "d9162e16-7855-49c6-a74c-b471ca07064f",
   "metadata": {},
   "outputs": [],
   "source": [
    "import happybase"
   ]
  },
  {
   "cell_type": "code",
   "execution_count": 53,
   "id": "8c43b608-df5e-41b1-9557-43bd5b84acde",
   "metadata": {},
   "outputs": [],
   "source": [
    "import findspark\n",
    "\n",
    "findspark.init()"
   ]
  },
  {
   "cell_type": "code",
   "execution_count": 54,
   "id": "f8c9a122-7410-461b-83f9-70f0b86fa0b3",
   "metadata": {},
   "outputs": [],
   "source": [
    "from pyspark.sql import SparkSession\n",
    "\n",
    "spark = SparkSession.builder.appName(\"example\").getOrCreate()\n",
    "\n",
    "parquet_file_path = \"hdfs:///outpucik/merged_data.parquet\"\n",
    "\n",
    "merged_data = spark.read.parquet(parquet_file_path)"
   ]
  },
  {
   "cell_type": "code",
   "execution_count": 55,
   "id": "4f1b6014-16a0-4a59-b948-78b00d9a9e59",
   "metadata": {},
   "outputs": [],
   "source": [
    "results_details_family = [\n",
    "     'resultId',\n",
    "     'constructorId',\n",
    "     'results_number',\n",
    "     'grid',\n",
    "     'position',\n",
    "     'positionText',\n",
    "     'positionOrder',\n",
    "     'points',\n",
    "     'laps',\n",
    "     'results_time',\n",
    "     'milliseconds',\n",
    "     'fastestLap',\n",
    "     'rank',\n",
    "     'fastestLapTime',\n",
    "     'fastestLapSpeed',\n",
    "     'statusId'\n",
    "]\n",
    "\n",
    "races_family = [\n",
    "     'raceId',\n",
    "     'year',\n",
    "     'round',\n",
    "     'circuitId',\n",
    "     'name',\n",
    "     'date',\n",
    "     'race_time',\n",
    "     'url'\n",
    "]\n",
    "\n",
    "driver_family = [\n",
    "    'driverId',\n",
    "    'driverRef',\n",
    "    'driver_number',\n",
    "    'code',\n",
    "    'forename',\n",
    "    'surname',\n",
    "    'dob',\n",
    "    'nationality',\n",
    "    'driver_url'\n",
    "]\n",
    "\n",
    "results_dict = {\n",
    "    col: \"results\" for col in results_details_family\n",
    "}\n",
    "races_dict = {\n",
    "    col: \"races\" for col in races_family\n",
    "}\n",
    "driver_dict = {\n",
    "    col: \"driver\" for col in driver_family\n",
    "}\n",
    "\n",
    "final_families = {**results_dict, **races_dict, **driver_dict}"
   ]
  },
  {
   "cell_type": "code",
   "execution_count": 56,
   "id": "af839cac-8cdf-4115-83cf-560bb11715b6",
   "metadata": {},
   "outputs": [],
   "source": [
    "import numpy as np"
   ]
  },
  {
   "cell_type": "code",
   "execution_count": 57,
   "id": "1d4e10f9-5be5-444d-b71e-0c9334585a08",
   "metadata": {},
   "outputs": [
    {
     "data": {
      "text/plain": [
       "array([ 3373, 19921, 16375,  8307])"
      ]
     },
     "execution_count": 57,
     "metadata": {},
     "output_type": "execute_result"
    }
   ],
   "source": [
    "cache_data = merged_data.collect()\n",
    "\n",
    "indices = np.random.choice(len(cache_data), 4)\n",
    "indices"
   ]
  },
  {
   "cell_type": "code",
   "execution_count": 58,
   "id": "16752aa5-06ab-442a-b333-fefe06d94504",
   "metadata": {},
   "outputs": [],
   "source": [
    "four_rows_data = [\n",
    "    cache_data[index] for index in indices\n",
    "]"
   ]
  },
  {
   "cell_type": "code",
   "execution_count": 59,
   "id": "04fbad0b-83e7-49ea-a126-d3570d8e0c54",
   "metadata": {},
   "outputs": [],
   "source": [
    "import pandas as pd\n",
    "from io import BytesIO\n",
    "\n",
    "sample_data = []\n",
    "\n",
    "for i, row in enumerate(four_rows_data):\n",
    "    row_data = row.asDict()\n",
    "    data = { \"row_key\": str(i + 1) }\n",
    "    for column_name, family in final_families.items():\n",
    "        data[family + \":\" + column_name] = row_data[column_name]\n",
    "    sample_data.append(data)"
   ]
  },
  {
   "cell_type": "code",
   "execution_count": 60,
   "id": "6248b3d6-20e3-43b7-9448-d830f3ed729e",
   "metadata": {},
   "outputs": [],
   "source": [
    "# sample_data"
   ]
  },
  {
   "cell_type": "code",
   "execution_count": 62,
   "id": "43581c17-7b72-42a4-bd97-ead019e8a261",
   "metadata": {},
   "outputs": [],
   "source": [
    "hbase_table_name = 'f1_results'\n",
    "\n",
    "connection = happybase.Connection(host='localhost')\n",
    "connection.open()"
   ]
  },
  {
   "cell_type": "code",
   "execution_count": 63,
   "id": "da0b816a-4dbe-471a-89cd-0b20dbefbe88",
   "metadata": {},
   "outputs": [],
   "source": [
    "def create_or_replace_table(connection, table_name):\n",
    "    if table_name.encode() in connection.tables():\n",
    "        connection.delete_table(table_name, disable=True)\n",
    "    connection.create_table(\n",
    "        table_name,\n",
    "        {\n",
    "        family: dict() for family in set(final_families.values())\n",
    "        }\n",
    "    )\n",
    "\n",
    "# Utwórz lub zastąp tabelę\n",
    "create_or_replace_table(connection, hbase_table_name)"
   ]
  },
  {
   "cell_type": "code",
   "execution_count": 64,
   "id": "57a116fc-a2b7-446b-831e-1f175540a3bc",
   "metadata": {},
   "outputs": [
    {
     "data": {
      "text/plain": [
       "[b'books',\n",
       " b'employees',\n",
       " b'f1_results',\n",
       " b'mytable',\n",
       " b'person',\n",
       " b'prog_langs',\n",
       " b'test',\n",
       " b'test2',\n",
       " b'trains',\n",
       " b'trees',\n",
       " b'tweets',\n",
       " b'wifi']"
      ]
     },
     "execution_count": 64,
     "metadata": {},
     "output_type": "execute_result"
    }
   ],
   "source": [
    "connection.tables()"
   ]
  },
  {
   "cell_type": "code",
   "execution_count": 69,
   "id": "9dd58af8-75b1-4104-b74b-e624038c19ea",
   "metadata": {},
   "outputs": [
    {
     "name": "stdout",
     "output_type": "stream",
     "text": [
      "dict_keys([b'driver', b'races', b'results'])\n"
     ]
    }
   ],
   "source": [
    "table = connection.table(hbase_table_name)\n",
    "print(table.families().keys())"
   ]
  },
  {
   "cell_type": "code",
   "execution_count": 70,
   "id": "8efbb65b-926f-4ec8-99a4-ecd6ddb62f32",
   "metadata": {},
   "outputs": [],
   "source": [
    "for data in sample_data:\n",
    "    row_key = data.pop(\"row_key\")\n",
    "    row_key_encoded = row_key.encode()\n",
    "    data = {str(k).encode(): str(v).encode() for k, v in data.items()}\n",
    "    table.put(row_key_encoded, data)"
   ]
  },
  {
   "cell_type": "code",
   "execution_count": 71,
   "id": "bb4abeab-8e5e-4462-83cf-2dc7496f5afc",
   "metadata": {},
   "outputs": [
    {
     "name": "stdout",
     "output_type": "stream",
     "text": [
      "Zawartość tabeli przed aktualizacją:\n",
      "  row_key driver:code  driver:dob driver:driverId driver:driverRef  \\\n",
      "0       1         FIS  14/01/1973              21       fisichella   \n",
      "1       2        None  30/10/1906             642           farina   \n",
      "2       3        None  12/11/1945             352            eaton   \n",
      "3       4        None  04/07/1948             163           arnoux   \n",
      "\n",
      "  driver:driver_number                                  driver:driver_url  \\\n",
      "0                 None  http://en.wikipedia.org/wiki/Giancarlo_Fisichella   \n",
      "1                 None           http://en.wikipedia.org/wiki/Nino_Farina   \n",
      "2                 None          http://en.wikipedia.org/wiki/George_Eaton   \n",
      "3                 None      http://en.wikipedia.org/wiki/Ren%C3%A9_Arnoux   \n",
      "\n",
      "  driver:forename driver:nationality driver:surname  ... results:milliseconds  \\\n",
      "0       Giancarlo            Italian     Fisichella  ...                 None   \n",
      "1            Nino            Italian         Farina  ...                 None   \n",
      "2          George           Canadian          Eaton  ...                 None   \n",
      "3            Ren̩             French         Arnoux  ...                 None   \n",
      "\n",
      "  results:points results:position results:positionOrder results:positionText  \\\n",
      "0            2.0                5                     5                    5   \n",
      "1            2.0                5                     5                    5   \n",
      "2            0.0             None                    14                    R   \n",
      "3            0.0                9                     9                    9   \n",
      "\n",
      "  results:rank results:resultId results:results_number results:results_time  \\\n",
      "0         None             3374                      9                 None   \n",
      "1         None            19922                      2                 None   \n",
      "2         None            16376                     22                 None   \n",
      "3         None             8308                     25                 None   \n",
      "\n",
      "  results:statusId  \n",
      "0               11  \n",
      "1               14  \n",
      "2                6  \n",
      "3               12  \n",
      "\n",
      "[4 rows x 34 columns]\n"
     ]
    }
   ],
   "source": [
    "def read_table_content(connection, table_name):\n",
    "    table = connection.table(table_name)\n",
    "    scanner = table.scan()\n",
    "    \n",
    "    data = []\n",
    "    for key, value in scanner:\n",
    "        row_data = {'row_key': key.decode()}\n",
    "        for column, val in value.items():\n",
    "            row_data[column.decode()] = val.decode()\n",
    "        data.append(row_data)\n",
    "    \n",
    "    return pd.DataFrame(data)\n",
    "\n",
    "print(\"Zawartość tabeli przed aktualizacją:\")\n",
    "print(read_table_content(connection, hbase_table_name))"
   ]
  }
 ],
 "metadata": {
  "kernelspec": {
   "display_name": "Python 3 (ipykernel)",
   "language": "python",
   "name": "python3"
  },
  "language_info": {
   "codemirror_mode": {
    "name": "ipython",
    "version": 3
   },
   "file_extension": ".py",
   "mimetype": "text/x-python",
   "name": "python",
   "nbconvert_exporter": "python",
   "pygments_lexer": "ipython3",
   "version": "3.9.4"
  }
 },
 "nbformat": 4,
 "nbformat_minor": 5
}
