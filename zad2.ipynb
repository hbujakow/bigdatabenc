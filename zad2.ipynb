{
 "cells": [
  {
   "cell_type": "code",
   "execution_count": 8,
   "id": "82154406-41c6-4caf-9b87-b4ef551f22b5",
   "metadata": {},
   "outputs": [],
   "source": [
    "import findspark\n",
    "\n",
    "findspark.init()"
   ]
  },
  {
   "cell_type": "code",
   "execution_count": 9,
   "id": "99699c12-5e55-4b8d-9a5a-50b4df3109c4",
   "metadata": {},
   "outputs": [],
   "source": [
    "from pyspark.sql import SparkSession\n",
    "from pyspark.sql.functions import col, avg, max, sum\n",
    "\n",
    "# Create a Spark session\n",
    "spark = SparkSession.builder.appName(\"MySparkApp\").getOrCreate()\n",
    "\n",
    "# Task 1: Load data from HDFS\n",
    "results = spark.read.csv(\"hdfs:///outpucik/results.csv\", header=True, inferSchema=True)\n",
    "races = spark.read.csv(\"hdfs:///outpucik/races.csv\", header=True, inferSchema=True)\n",
    "drivers = spark.read.csv(\"hdfs:///outpucik/drivers.csv\", header=True, inferSchema=True)"
   ]
  },
  {
   "cell_type": "code",
   "execution_count": 10,
   "id": "3c22cbf3-da0b-471d-8d56-b57818fd43f5",
   "metadata": {},
   "outputs": [
    {
     "name": "stdout",
     "output_type": "stream",
     "text": [
      "Results schema:\n",
      "root\n",
      " |-- resultId: integer (nullable = true)\n",
      " |-- raceId: integer (nullable = true)\n",
      " |-- driverId: integer (nullable = true)\n",
      " |-- constructorId: integer (nullable = true)\n",
      " |-- number: integer (nullable = true)\n",
      " |-- grid: integer (nullable = true)\n",
      " |-- position: integer (nullable = true)\n",
      " |-- positionText: string (nullable = true)\n",
      " |-- positionOrder: integer (nullable = true)\n",
      " |-- points: double (nullable = true)\n",
      " |-- laps: integer (nullable = true)\n",
      " |-- time: string (nullable = true)\n",
      " |-- milliseconds: integer (nullable = true)\n",
      " |-- fastestLap: integer (nullable = true)\n",
      " |-- rank: integer (nullable = true)\n",
      " |-- fastestLapTime: string (nullable = true)\n",
      " |-- fastestLapSpeed: string (nullable = true)\n",
      " |-- statusId: integer (nullable = true)\n",
      "\n",
      "Number of records in results: 23777\n",
      "\n",
      "Races schema:\n",
      "root\n",
      " |-- raceId: integer (nullable = true)\n",
      " |-- year: integer (nullable = true)\n",
      " |-- round: integer (nullable = true)\n",
      " |-- circuitId: integer (nullable = true)\n",
      " |-- name: string (nullable = true)\n",
      " |-- date: string (nullable = true)\n",
      " |-- time: string (nullable = true)\n",
      " |-- url: string (nullable = true)\n",
      "\n",
      "Number of records in races: 997\n",
      "\n",
      "Drivers schema:\n",
      "root\n",
      " |-- driverId: integer (nullable = true)\n",
      " |-- driverRef: string (nullable = true)\n",
      " |-- number: integer (nullable = true)\n",
      " |-- code: string (nullable = true)\n",
      " |-- forename: string (nullable = true)\n",
      " |-- surname: string (nullable = true)\n",
      " |-- dob: string (nullable = true)\n",
      " |-- nationality: string (nullable = true)\n",
      " |-- url: string (nullable = true)\n",
      "\n",
      "Number of records in drivers: 842\n"
     ]
    }
   ],
   "source": [
    "# Task 2: Check columns and data types, count records\n",
    "print(\"Results schema:\")\n",
    "results.printSchema()\n",
    "results_count = results.count()\n",
    "print(f\"Number of records in results: {results_count}\")\n",
    "\n",
    "print(\"\\nRaces schema:\")\n",
    "races.printSchema()\n",
    "races_count = races.count()\n",
    "print(f\"Number of records in races: {races_count}\")\n",
    "\n",
    "print(\"\\nDrivers schema:\")\n",
    "drivers.printSchema()\n",
    "drivers_count = drivers.count()\n",
    "print(f\"Number of records in drivers: {drivers_count}\")"
   ]
  },
  {
   "cell_type": "code",
   "execution_count": 11,
   "id": "447a6b94-7adf-4bbf-b7f7-59a66b8b0970",
   "metadata": {},
   "outputs": [
    {
     "name": "stdout",
     "output_type": "stream",
     "text": [
      "\n",
      "Number of rows after merging: 23777\n"
     ]
    },
    {
     "name": "stderr",
     "output_type": "stream",
     "text": [
      "                                                                                \r"
     ]
    }
   ],
   "source": [
    "# Task 3: Merge data and count rows\n",
    "\n",
    "races = races.withColumnRenamed(\"time\", \"race_time\")\n",
    "drivers = drivers.withColumnRenamed(\"number\", \"driver_number\") \\\n",
    "                 .withColumnRenamed(\"url\", \"driver_url\")\n",
    "results = results.withColumnRenamed(\"time\", \"results_time\") \\\n",
    "                 .withColumnRenamed(\"number\", \"results_number\")\n",
    "\n",
    "merged_data = results.join(races, \"raceId\").join(drivers, \"driverId\")\n",
    "merged_count = merged_data.count()\n",
    "print(f\"\\nNumber of rows after merging: {merged_count}\")\n",
    "\n",
    "# Task 4: Convert to Parquet and save to HDFS\n",
    "merged_data.write.parquet(\"hdfs:///outpucik/merged_data.parquet\")"
   ]
  },
  {
   "cell_type": "code",
   "execution_count": 12,
   "id": "ab8fc7fc-ca49-42f9-bf50-ddf88f20d38e",
   "metadata": {},
   "outputs": [
    {
     "name": "stderr",
     "output_type": "stream",
     "text": [
      "[Stage 57:=================================================>    (184 + 6) / 200]\r"
     ]
    },
    {
     "name": "stdout",
     "output_type": "stream",
     "text": [
      "+--------+------------------+\n",
      "|driverId|      averageSpeed|\n",
      "+--------+------------------+\n",
      "|      69|           211.786|\n",
      "|      24|          206.9228|\n",
      "|       8|204.43448571428573|\n",
      "|       4|           203.494|\n",
      "|      11|         203.46025|\n",
      "|       2|203.35114285714278|\n",
      "|       9|203.32755882352942|\n",
      "|     154|203.24066666666667|\n",
      "|      20| 203.1014838709678|\n",
      "|     155|          203.0635|\n",
      "|       1| 203.0331764705882|\n",
      "|       3| 203.0095428571429|\n",
      "|      13|202.94729629629632|\n",
      "|       5|202.80760606060605|\n",
      "|      22| 202.3576857142857|\n",
      "|      10|202.17048387096776|\n",
      "|      17| 201.9461212121212|\n",
      "|      67|           201.713|\n",
      "|      18|201.68184848484853|\n",
      "|       6|201.25382352941173|\n",
      "+--------+------------------+\n",
      "only showing top 20 rows\n",
      "\n"
     ]
    },
    {
     "name": "stderr",
     "output_type": "stream",
     "text": [
      "                                                                                \r"
     ]
    }
   ],
   "source": [
    "# Task 5: Calculate average speed for fastest laps in 2008 and 2009\n",
    "average_speed = (\n",
    "    results\n",
    "    .join(races, \"raceId\")\n",
    "    .filter((col(\"year\") == 2008) | (col(\"year\") == 2009))\n",
    "    .groupBy(\"driverId\")\n",
    "    .agg(avg(\"fastestLapSpeed\").alias(\"averageSpeed\"))\n",
    ")\n",
    "average_speed.sort('averageSpeed', ascending=False).show()"
   ]
  },
  {
   "cell_type": "code",
   "execution_count": 13,
   "id": "30449441-e496-4677-8c50-6c26eaec0a21",
   "metadata": {},
   "outputs": [
    {
     "name": "stdout",
     "output_type": "stream",
     "text": [
      "+------+\n",
      "|points|\n",
      "+------+\n",
      "|   0.0|\n",
      "|   0.0|\n",
      "|   0.0|\n",
      "|   4.0|\n",
      "|   1.0|\n",
      "|   0.0|\n",
      "|   0.0|\n",
      "|   0.0|\n",
      "|   0.0|\n",
      "|   8.0|\n",
      "|   6.0|\n",
      "|   4.0|\n",
      "|   3.0|\n",
      "|   2.0|\n",
      "|   1.0|\n",
      "|   0.0|\n",
      "|   0.0|\n",
      "|   0.0|\n",
      "|   0.0|\n",
      "|   0.0|\n",
      "+------+\n",
      "only showing top 20 rows\n",
      "\n"
     ]
    }
   ],
   "source": [
    "merged_data.filter((col('nationality') == 'American') & (col(\"year\") == 1960)).select('points').show()"
   ]
  },
  {
   "cell_type": "code",
   "execution_count": null,
   "id": "387bbfda-846e-476e-a268-f6bd53db3e1e",
   "metadata": {},
   "outputs": [],
   "source": [
    "# Task 6: Group data by nationality, year, race name, and calculate total points and max lap speed\n",
    "grouped_data = (\n",
    "    merged_data\n",
    "    .groupBy(\"nationality\", \"year\", \"name\")\n",
    "    .agg(\n",
    "        sum(\"points\").alias(\"totalPoints\"),\n",
    "        max(\"fastestLapSpeed\").alias(\"maxLapSpeed\")\n",
    "    )\n",
    "    .na.drop(subset=[\"maxLapSpeed\"])\n",
    ")\n",
    "grouped_data.sort('totalPoints', 'maxLapSpeed', ascending=False).show()"
   ]
  },
  {
   "cell_type": "code",
   "execution_count": null,
   "id": "b49b848a-c397-437b-a12d-715b71c2bda3",
   "metadata": {},
   "outputs": [],
   "source": [
    "# Task 7: Create a Spark SQL view\n",
    "grouped_data.createOrReplaceTempView(\"race_stats\")"
   ]
  },
  {
   "cell_type": "code",
   "execution_count": null,
   "id": "22b95f85-198b-4e36-8f4a-f6f4ee967a47",
   "metadata": {},
   "outputs": [],
   "source": [
    "# Task 8: Count rows and max points per nationality using Spark SQL view\n",
    "sql_query = \"SELECT nationality, COUNT(*) as rowCount, MAX(totalPoints) as maxPoints FROM race_stats GROUP BY nationality\"\n",
    "result_view = spark.sql(sql_query)\n",
    "result_view.show()"
   ]
  },
  {
   "cell_type": "code",
   "execution_count": null,
   "id": "519752f7-93bb-4335-9fb7-58a6dc94e09e",
   "metadata": {},
   "outputs": [],
   "source": [
    "result_view.filter(col('nationality') == 'German').show()"
   ]
  },
  {
   "cell_type": "code",
   "execution_count": null,
   "id": "3168fc01-0568-4349-995b-4583b6c27d2e",
   "metadata": {},
   "outputs": [],
   "source": []
  }
 ],
 "metadata": {
  "kernelspec": {
   "display_name": "Python 3 (ipykernel)",
   "language": "python",
   "name": "python3"
  },
  "language_info": {
   "codemirror_mode": {
    "name": "ipython",
    "version": 3
   },
   "file_extension": ".py",
   "mimetype": "text/x-python",
   "name": "python",
   "nbconvert_exporter": "python",
   "pygments_lexer": "ipython3",
   "version": "3.9.4"
  }
 },
 "nbformat": 4,
 "nbformat_minor": 5
}
